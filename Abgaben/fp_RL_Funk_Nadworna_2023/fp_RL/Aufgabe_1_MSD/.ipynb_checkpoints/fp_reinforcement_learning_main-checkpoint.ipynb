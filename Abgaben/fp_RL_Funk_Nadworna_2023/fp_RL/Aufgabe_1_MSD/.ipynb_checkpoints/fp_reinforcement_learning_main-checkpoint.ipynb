{
 "cells": [
  {
   "cell_type": "code",
   "execution_count": 3,
   "id": "fc640456",
   "metadata": {},
   "outputs": [
    {
     "name": "stdout",
     "output_type": "stream",
     "text": [
      "Collecting celluloid\n",
      "  Downloading celluloid-0.2.0-py3-none-any.whl (5.4 kB)\n",
      "Requirement already satisfied: matplotlib in c:\\users\\renes\\anaconda3\\lib\\site-packages (from celluloid) (3.4.3)\n",
      "Requirement already satisfied: cycler>=0.10 in c:\\users\\renes\\anaconda3\\lib\\site-packages (from matplotlib->celluloid) (0.10.0)\n",
      "Requirement already satisfied: pyparsing>=2.2.1 in c:\\users\\renes\\anaconda3\\lib\\site-packages (from matplotlib->celluloid) (3.0.4)\n",
      "Requirement already satisfied: kiwisolver>=1.0.1 in c:\\users\\renes\\anaconda3\\lib\\site-packages (from matplotlib->celluloid) (1.3.1)\n",
      "Requirement already satisfied: numpy>=1.16 in c:\\users\\renes\\anaconda3\\lib\\site-packages (from matplotlib->celluloid) (1.20.3)\n",
      "Requirement already satisfied: pillow>=6.2.0 in c:\\users\\renes\\anaconda3\\lib\\site-packages (from matplotlib->celluloid) (8.4.0)\n",
      "Requirement already satisfied: python-dateutil>=2.7 in c:\\users\\renes\\anaconda3\\lib\\site-packages (from matplotlib->celluloid) (2.8.2)\n",
      "Requirement already satisfied: six in c:\\users\\renes\\anaconda3\\lib\\site-packages (from cycler>=0.10->matplotlib->celluloid) (1.16.0)\n",
      "Installing collected packages: celluloid\n",
      "Successfully installed celluloid-0.2.0\n",
      "Note: you may need to restart the kernel to use updated packages.\n"
     ]
    }
   ],
   "source": [
    "pip install celluloid"
   ]
  },
  {
   "cell_type": "code",
   "execution_count": 4,
   "id": "4269d826",
   "metadata": {},
   "outputs": [
    {
     "ename": "TypeError",
     "evalue": "'>' not supported between instances of 'NoneType' and 'float'",
     "output_type": "error",
     "traceback": [
      "\u001b[1;31m---------------------------------------------------------------------------\u001b[0m",
      "\u001b[1;31mTypeError\u001b[0m                                 Traceback (most recent call last)",
      "\u001b[1;32m~\\AppData\\Local\\Temp/ipykernel_6836/2213730955.py\u001b[0m in \u001b[0;36m<module>\u001b[1;34m\u001b[0m\n\u001b[0;32m     12\u001b[0m \u001b[1;33m\u001b[0m\u001b[0m\n\u001b[0;32m     13\u001b[0m \u001b[0menv\u001b[0m \u001b[1;33m=\u001b[0m \u001b[0mfp_classes\u001b[0m\u001b[1;33m.\u001b[0m\u001b[0menvironment\u001b[0m\u001b[1;33m(\u001b[0m\u001b[1;33m)\u001b[0m\u001b[1;33m\u001b[0m\u001b[1;33m\u001b[0m\u001b[0m\n\u001b[1;32m---> 14\u001b[1;33m \u001b[0mlearner\u001b[0m \u001b[1;33m=\u001b[0m \u001b[0mfp_classes\u001b[0m\u001b[1;33m.\u001b[0m\u001b[0magent\u001b[0m\u001b[1;33m(\u001b[0m\u001b[0menv\u001b[0m\u001b[1;33m)\u001b[0m\u001b[1;33m\u001b[0m\u001b[1;33m\u001b[0m\u001b[0m\n\u001b[0m\u001b[0;32m     15\u001b[0m \u001b[1;33m\u001b[0m\u001b[0m\n\u001b[0;32m     16\u001b[0m \u001b[0mT_XPOW2_DATAPOINTS\u001b[0m \u001b[1;33m=\u001b[0m \u001b[0mdict\u001b[0m\u001b[1;33m(\u001b[0m\u001b[1;33m)\u001b[0m\u001b[1;33m\u001b[0m\u001b[1;33m\u001b[0m\u001b[0m\n",
      "\u001b[1;32m~\\OneDrive\\Desktop\\FP\\Qlearning\\Ordnerstruktur_Bearbeitung\\Ordnerstruktur_Bearbeitung\\Aufgabe_1_MSD\\fp_classes.py\u001b[0m in \u001b[0;36m__init__\u001b[1;34m(self, env_)\u001b[0m\n\u001b[0;32m     28\u001b[0m                 \u001b[0mself\u001b[0m\u001b[1;33m.\u001b[0m\u001b[0mx_old\u001b[0m \u001b[1;33m=\u001b[0m \u001b[1;32mNone\u001b[0m\u001b[1;33m\u001b[0m\u001b[1;33m\u001b[0m\u001b[0m\n\u001b[0;32m     29\u001b[0m \u001b[1;33m\u001b[0m\u001b[0m\n\u001b[1;32m---> 30\u001b[1;33m                 \u001b[1;32mif\u001b[0m \u001b[0mself\u001b[0m\u001b[1;33m.\u001b[0m\u001b[0mP_diffstep\u001b[0m \u001b[1;33m>\u001b[0m \u001b[1;36m1.0\u001b[0m\u001b[1;33m:\u001b[0m\u001b[1;33m\u001b[0m\u001b[1;33m\u001b[0m\u001b[0m\n\u001b[0m\u001b[0;32m     31\u001b[0m                         \u001b[0mprint\u001b[0m\u001b[1;33m(\u001b[0m\u001b[1;34mf\"self.P_step = {self.P_step} > 1.0 in agent.__init__(...)\"\u001b[0m\u001b[1;33m)\u001b[0m\u001b[1;33m\u001b[0m\u001b[1;33m\u001b[0m\u001b[0m\n\u001b[0;32m     32\u001b[0m                         \u001b[0mprint\u001b[0m\u001b[1;33m(\u001b[0m\u001b[1;34m\"Diffusion constant self.D possibly too large. Pick a smaller self.D.\"\u001b[0m\u001b[1;33m)\u001b[0m\u001b[1;33m\u001b[0m\u001b[1;33m\u001b[0m\u001b[0m\n",
      "\u001b[1;31mTypeError\u001b[0m: '>' not supported between instances of 'NoneType' and 'float'"
     ]
    }
   ],
   "source": [
    "import fp_classes\n",
    "import numpy as np\n",
    "import matplotlib.pyplot as plt\n",
    "from matplotlib.offsetbox import TextArea, DrawingArea, OffsetImage, AnnotationBbox\n",
    "import time as tm\n",
    "\n",
    "from celluloid import Camera\n",
    "from datetime import date\n",
    "import datetime\n",
    "\n",
    "now = date.today().strftime(\"%y-%m-%dT\") + datetime.datetime.now().strftime(\"%H_%M_%S\")\n",
    "\n",
    "env = fp_classes.environment()\n",
    "learner = fp_classes.agent(env)\n",
    "\n",
    "T_XPOW2_DATAPOINTS = dict()\n",
    "T0 = tm.time()\n",
    "for i in range(learner.N_episodes):\n",
    "    #print(i)\n",
    "    if ((i%(learner.N_episodes//100)) == 0) and i:\n",
    "        progress = 1.*i/learner.N_episodes\n",
    "        print(\"------------------------------------------\")\n",
    "        print(f\"Fortschritt: {progress}\")\n",
    "        Trem = (tm.time() - T0)*(1./progress - 1.)\n",
    "        print(f\"Verbleibende Zeit: {Trem} s\")\n",
    "        #print(i)\n",
    "    learner.x = 0\n",
    "\n",
    "    for t in range(learner.tmax_MSD):\n",
    "        if not t in T_XPOW2_DATAPOINTS.keys():\n",
    "            T_XPOW2_DATAPOINTS[t] = []\n",
    "        T_XPOW2_DATAPOINTS[t].append(learner.x**2)\n",
    "        \n",
    "        learner.random_step()\n",
    "\n",
    "\n",
    "\n",
    "\n",
    "for key in T_XPOW2_DATAPOINTS.keys():\n",
    "    T_XPOW2_DATAPOINTS[key] =  np.mean(T_XPOW2_DATAPOINTS[key])\n",
    "\n",
    "X = np.array(list(T_XPOW2_DATAPOINTS.keys()))\n",
    "Y = np.array(list(T_XPOW2_DATAPOINTS.values()))\n",
    "plt.rcParams.update({'font.size': 18})\n",
    "\n",
    "fig,ax = plt.subplots()\n",
    "\n",
    "ax.plot(X,Y,label=\"Simulationsdaten\")\n",
    "p = np.polyfit(X,Y,1)\n",
    "print(p)\n",
    "ax.plot(X,p[0]*X+p[1],linestyle=\"dashed\",label=\"fit\")\n",
    "ax.legend()\n",
    "ax.set_xlabel(r\"$t$\")\n",
    "ax.set_ylabel(r\"$\\left <x^2(t) \\right >$\")\n",
    "plt.show()\n",
    "\n",
    "\n",
    "\n",
    "\n",
    "exit()\n",
    "LAST_TRAJECTORY = []\n",
    "\n",
    "\n",
    "for episode in range(learner.N_episodes):\n",
    "    if ((episode%(learner.N_episodes//100)) == 0) and episode:\n",
    "        progress = 1.*episode/learner.N_episodes\n",
    "        print(\"------------------------------------------\")\n",
    "        print(f\"Fortschritt: {progress}\")\n",
    "\n",
    "    learner.x = env.starting_position\n",
    "    learner.chosen_action = None\n",
    "\n",
    "    while (learner.x != env.target_position) or learner.chosen_action != 1:\n",
    "        if episode == learner.N_episodes-1: LAST_TRAJECTORY.append(learner.x)\n",
    "        pass\n",
    "\n",
    "\n",
    "im_agent = plt.imread(\"../IMG/Lasse_head.png\")\n",
    "im_treat = plt.imread(\"../IMG/treat.png\")\n",
    "imagebox = OffsetImage(im_agent, zoom=0.02)\n",
    "imagebox2 = OffsetImage(im_treat, zoom=0.5)\n",
    "\n",
    "trajfig,trajax = plt.subplots()\n",
    "camera = Camera(trajfig)\n",
    "\n",
    "#--------------------------------------------------------------------\n",
    "#IM FOLGENDEN CODE BLOCK WIRD DIE TRAJEKTORIE ALS GIF AUSGEGEBEN\n",
    "#WENN DIESER TEIL ZU LANGE DAUERT ODER SIE DIE NÖTIGEN LIBRARIES NICHT INSTALLIEREN KÖNNEN,\n",
    "#KOMMENTIEREN SIE DIESEN CODE BLOCK AUS\n",
    "#--------------------------------------------------------------------\n"
   ]
  },
  {
   "cell_type": "code",
   "execution_count": null,
   "id": "0f51c842",
   "metadata": {},
   "outputs": [],
   "source": [
    "LAST_TRAJECTORY_WITHOUT_PBJUMPS = []\n",
    "for i in range(len(LAST_TRAJECTORY)-1):\n",
    "    dx = np.abs(LAST_TRAJECTORY[i+1] - LAST_TRAJECTORY[i])\n",
    "    LAST_TRAJECTORY_WITHOUT_PBJUMPS.append(LAST_TRAJECTORY[i])\n",
    "    if dx > 0.5*env.N_states:\n",
    "        LAST_TRAJECTORY_WITHOUT_PBJUMPS.append(None)\n",
    "        \n",
    "\n",
    "for i,x in enumerate(LAST_TRAJECTORY_WITHOUT_PBJUMPS):\n",
    "    trajax.plot(np.array(LAST_TRAJECTORY_WITHOUT_PBJUMPS)[:i],np.linspace(0,0,len(np.array(LAST_TRAJECTORY_WITHOUT_PBJUMPS)[:i])),color=\"blue\")\t\n",
    "    ab = AnnotationBbox(imagebox2, (env.target_position, 0.0),frameon=False)\n",
    "    trajax.add_artist(ab)\n",
    "    if x:\n",
    "        ab = AnnotationBbox(imagebox, (x, 0.0),frameon=False)\n",
    "        #trajax.add_artist(ab)\n",
    "    else:\n",
    "        ab = AnnotationBbox(imagebox, (LAST_TRAJECTORY_WITHOUT_PBJUMPS[i+1], 0.0),frameon=False)\n",
    "    trajax.add_artist(ab)\n",
    "            \n",
    "\n",
    "    trajax.set_xlim(0.0,env.N_states)\n",
    "    trajax.set_ylim(-1.0,1.0)\n",
    "    trajax.set_yticks([])\n",
    "    camera.snap()\n",
    "animation = camera.animate()\n",
    "animation.save(\"LAST_TRAJECTORY_\" + now + \".gif\")\n"
   ]
  },
  {
   "cell_type": "code",
   "execution_count": 2,
   "id": "2e6a9d5d",
   "metadata": {},
   "outputs": [
    {
     "ename": "ModuleNotFoundError",
     "evalue": "No module named 'celluloid'",
     "output_type": "error",
     "traceback": [
      "\u001b[1;31m---------------------------------------------------------------------------\u001b[0m",
      "\u001b[1;31mModuleNotFoundError\u001b[0m                       Traceback (most recent call last)",
      "\u001b[1;32m~\\AppData\\Local\\Temp/ipykernel_6836/1371557691.py\u001b[0m in \u001b[0;36m<module>\u001b[1;34m\u001b[0m\n\u001b[1;32m----> 1\u001b[1;33m \u001b[1;32mfrom\u001b[0m \u001b[0mcelluloid\u001b[0m \u001b[1;32mimport\u001b[0m \u001b[0mCamera\u001b[0m\u001b[1;33m\u001b[0m\u001b[1;33m\u001b[0m\u001b[0m\n\u001b[0m",
      "\u001b[1;31mModuleNotFoundError\u001b[0m: No module named 'celluloid'"
     ]
    }
   ],
   "source": [
    "from celluloid import Camera"
   ]
  }
 ],
 "metadata": {
  "kernelspec": {
   "display_name": "Python 3 (ipykernel)",
   "language": "python",
   "name": "python3"
  },
  "language_info": {
   "codemirror_mode": {
    "name": "ipython",
    "version": 3
   },
   "file_extension": ".py",
   "mimetype": "text/x-python",
   "name": "python",
   "nbconvert_exporter": "python",
   "pygments_lexer": "ipython3",
   "version": "3.9.7"
  }
 },
 "nbformat": 4,
 "nbformat_minor": 5
}
