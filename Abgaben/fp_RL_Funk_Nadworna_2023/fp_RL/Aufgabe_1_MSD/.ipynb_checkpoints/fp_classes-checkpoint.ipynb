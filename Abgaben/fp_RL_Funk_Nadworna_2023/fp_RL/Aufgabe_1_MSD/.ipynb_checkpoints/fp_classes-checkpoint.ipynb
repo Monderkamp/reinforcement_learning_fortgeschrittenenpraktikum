{
 "cells": [
  {
   "cell_type": "code",
   "execution_count": 4,
   "id": "b30187cf",
   "metadata": {},
   "outputs": [],
   "source": [
    "import numpy as np\n",
    "\n",
    "class environment:\n",
    "     def __init__(self):\n",
    "         self.N_states = 100\n",
    "         self.target_position = 8\n",
    "         self.starting_position = 30\n",
    "         \n",
    "         self.obstacle_interval = np.arange(9,12)\n",
    "         self.P_obstacle = 0.0\n",
    "    \n",
    "class agent:\n",
    "    def __init__(self,env_):\n",
    "        self.N_episodes = 20000\n",
    "        self.tmax_MSD = 100\n",
    "        \n",
    "        self.x = 1\n",
    "        self.Q = np.zeros((env_.N_states,3))\n",
    "        self.alpha = None\n",
    "        self.gamma = None\n",
    "        self.epsilon = 1.0\n",
    "        self.target_reward = 10.0\n",
    "        self.zero_fraction = 0.9\n",
    "\n",
    "        self.D = 0.05\n",
    "        self.P_diffstep = np.sqrt(2*self.D)\n",
    "        \n",
    "        self.x_old = None\n",
    "        \n",
    "        if self.P_diffstep > 1.0:\n",
    "            print(f\"self.P_step = {self.P_step} > 1.0 in agent.__init__(...)\")\n",
    "            print(\"Diffusion constant self.D possibly too large. Pick a smaller self.D.\")\n",
    "            exit()\n",
    "    \n",
    "    def random_step(self):\n",
    "        self.rand = np.random.rand()\n",
    "        if self.rand <= self.P_diffstep:\n",
    "            step = np.random.randint(-1,2)\n",
    "            if step != 0:\n",
    "                self.x = self.x + step\n",
    "            else:\n",
    "                pass\n",
    "            return self.x\n",
    "        else :\n",
    "            self.x = self.x\n",
    "        return self.x\n",
    "    \n",
    "    def adjust_epsilon(self,episode):\n",
    "        pass\n",
    "            \n",
    "    def choose_action(self):\n",
    "        \"\"\"\n",
    "        wählt eine Zufallsaktion aus mit Wahrscheinlichkeit self.epsilon oder falls zwei aktionen die höchsten Q-werte haben.\n",
    "        Andernfalls wird der höchste Wert in der jeweiligen Zeile ausgewählt\n",
    "        \"\"\"\n",
    "        pass\n",
    "    def perform_action(self,env_):\n",
    "        \"\"\"\n",
    "        Hier werden die aktionen ausgeführt. Der Index der Aktion entspricht der Verschiebung auf der x-Achse + 1\n",
    "        \"\"\"\n",
    "\n",
    "        pass\n",
    "    \n",
    "    def update_Q(self,env_):\n",
    "        \"\"\"\n",
    "        Hier werden die Werte der Q-Matrix nach jeder Aktion entsprechend aktualisiert\n",
    "        \"\"\"\n",
    "        pass\n",
    "    \n",
    "    def stoch_obstacle(self,env_):\n",
    "        pass\n"
   ]
  },
  {
   "cell_type": "code",
   "execution_count": 85,
   "id": "3aa64601",
   "metadata": {},
   "outputs": [],
   "source": [
    "import numpy as np"
   ]
  },
  {
   "cell_type": "code",
   "execution_count": 83,
   "id": "e94687bd",
   "metadata": {
    "scrolled": true
   },
   "outputs": [
    {
     "name": "stdout",
     "output_type": "stream",
     "text": [
      "3\n"
     ]
    }
   ],
   "source": [
    "def random_step(self):\n",
    "    rand = np.random.rand() #random  komma zahl von null bis eins \n",
    "    if rand <= 0.3:\n",
    "        step = np.random.randint(-1,2)\n",
    "        if step != 0: \n",
    "            x = self + step\n",
    "        else :\n",
    "            pass\n",
    "        return x\n",
    "    else :\n",
    "        x = self \n",
    "        return x\n",
    "        \n",
    "            \n",
    "print(random_step(3))"
   ]
  }
 ],
 "metadata": {
  "kernelspec": {
   "display_name": "Python 3 (ipykernel)",
   "language": "python",
   "name": "python3"
  },
  "language_info": {
   "codemirror_mode": {
    "name": "ipython",
    "version": 3
   },
   "file_extension": ".py",
   "mimetype": "text/x-python",
   "name": "python",
   "nbconvert_exporter": "python",
   "pygments_lexer": "ipython3",
   "version": "3.9.7"
  }
 },
 "nbformat": 4,
 "nbformat_minor": 5
}
