{
 "cells": [
  {
   "cell_type": "code",
   "execution_count": 1,
   "id": "baaa38a3",
   "metadata": {},
   "outputs": [],
   "source": [
    "import numpy as np"
   ]
  },
  {
   "cell_type": "code",
   "execution_count": 13,
   "id": "b5347e32",
   "metadata": {},
   "outputs": [],
   "source": [
    "Q = np.array([[1,9,3],[5,5,5],[7,9,9]])"
   ]
  },
  {
   "cell_type": "code",
   "execution_count": 14,
   "id": "6f29fd99",
   "metadata": {},
   "outputs": [
    {
     "data": {
      "text/plain": [
       "1"
      ]
     },
     "execution_count": 14,
     "metadata": {},
     "output_type": "execute_result"
    }
   ],
   "source": [
    "np.argmax(Q)"
   ]
  },
  {
   "cell_type": "code",
   "execution_count": null,
   "id": "4c841c16",
   "metadata": {},
   "outputs": [],
   "source": []
  }
 ],
 "metadata": {
  "kernelspec": {
   "display_name": "Python 3 (ipykernel)",
   "language": "python",
   "name": "python3"
  },
  "language_info": {
   "codemirror_mode": {
    "name": "ipython",
    "version": 3
   },
   "file_extension": ".py",
   "mimetype": "text/x-python",
   "name": "python",
   "nbconvert_exporter": "python",
   "pygments_lexer": "ipython3",
   "version": "3.9.7"
  }
 },
 "nbformat": 4,
 "nbformat_minor": 5
}
